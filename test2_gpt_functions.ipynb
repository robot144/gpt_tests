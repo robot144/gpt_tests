{
 "cells": [
  {
   "attachments": {},
   "cell_type": "markdown",
   "metadata": {},
   "source": [
    "# GPT functions\n",
    "\n",
    "With just a dialog of text messages you can do a lot, but it's difficult to extend the capabilities of GPT. FOr this purpose GPT has a mechanism called functions, they're similar to, but not the same as plugins. Functions allow you to include your own code into the answers of GPT. The mechanism is a bit indirect though.\n",
    "\n",
    "1. First you explain what functions you have to offer, describing in plain text the purpose, its inputs and outputs.\n",
    "2. GPT may reply with a request to apply a function, together with its inputs. This is instead of a normal reply.\n",
    "3. You can run your own python code and reply with the function output\n",
    "4. GPT includes the reply into an answer to your question.\n",
    "\n",
    "In this notebook we follow the example of https://dekraker.medium.com/fun-with-functions-almost-everything-about-gpt-api-functions-619216eaebe where we extend GPT with the capability to forecast the weather. \n",
    "\n",
    "More info can be found at:\n",
    "- https://platform.openai.com/docs/quickstart\n",
    "- https://platform.openai.com/docs/api-reference"
   ]
  },
  {
   "cell_type": "code",
   "execution_count": 1,
   "metadata": {},
   "outputs": [
    {
     "name": "stdout",
     "output_type": "stream",
     "text": [
      "Make sure that you have installed the required packages listed in requirements.txt\n"
     ]
    }
   ],
   "source": [
    "# installation on colab\n",
    "# run this cell to install the required packages, but only once\n",
    "# You may have to restart the runtime after running this cell (Runtime -> Restart runtime)\n",
    "try:\n",
    "  import google.colab\n",
    "  IN_COLAB = True\n",
    "except:\n",
    "  IN_COLAB = False\n",
    "if IN_COLAB:\n",
    "  %pip install openai\n",
    "  %pip install requests\n",
    "  # getpass already installed\n",
    "else:\n",
    "  print('Make sure that you have installed the required packages listed in requirements.txt')"
   ]
  },
  {
   "cell_type": "code",
   "execution_count": 16,
   "metadata": {},
   "outputs": [],
   "source": [
    "#imports\n",
    "import openai\n",
    "import getpass\n",
    "from IPython.display import display, Markdown\n",
    "import requests"
   ]
  },
  {
   "cell_type": "code",
   "execution_count": 3,
   "metadata": {},
   "outputs": [],
   "source": [
    "#input your API key\n",
    "openai.api_key = getpass.getpass(\"Enter your API key: \")"
   ]
  },
  {
   "cell_type": "code",
   "execution_count": 4,
   "metadata": {},
   "outputs": [],
   "source": [
    "# This code was copied from: https://dekraker.medium.com/fun-with-functions-almost-everything-about-gpt-api-functions-619216eaebe\n",
    "# GPT will read this to understand what Functions we define.\n",
    "functions = [{\n",
    "    \"name\": \"get_current_weather\",\n",
    "    \"description\": \"Get the current weather\",\n",
    "    \"parameters\": {\n",
    "        \"type\": \"object\",\n",
    "        \"properties\": {\n",
    "            \"location\": {\n",
    "                \"type\": \"string\",\n",
    "                \"description\": \"The four-digit ICAO Airport code for a METAR weather station. \\\n",
    "                Example: KSEA. If Airport code is not provided, infer it from other available location data \\\n",
    "                and your knowledge.\"\n",
    "            },\n",
    "        },\n",
    "        \"required\": [\"location\"]\n",
    "    }\n",
    "}]"
   ]
  },
  {
   "cell_type": "code",
   "execution_count": 28,
   "metadata": {},
   "outputs": [],
   "source": [
    "model = \"gpt-3.5-turbo-0613\" #TODO do we need this specific model?\n",
    "max_tokens = 500 # More tokens are needed to include the function definition\n",
    "\n",
    "messages = []\n",
    "messages.append({\"role\": \"system\", \"content\": \"You are a helpful assistant.\"})\n",
    "messages.append({\"role\": \"user\", \"content\": \"Does it rain in Delft?\"}) "
   ]
  },
  {
   "cell_type": "code",
   "execution_count": 38,
   "metadata": {},
   "outputs": [
    {
     "name": "stdout",
     "output_type": "stream",
     "text": [
      "Full response: {\n",
      "  \"id\": \"chatcmpl-7aV6gRPdBQA2B9iiJV7zavcUr6aGa\",\n",
      "  \"object\": \"chat.completion\",\n",
      "  \"created\": 1688933738,\n",
      "  \"model\": \"gpt-3.5-turbo-0613\",\n",
      "  \"choices\": [\n",
      "    {\n",
      "      \"index\": 0,\n",
      "      \"message\": {\n",
      "        \"role\": \"assistant\",\n",
      "        \"content\": null,\n",
      "        \"function_call\": {\n",
      "          \"name\": \"get_current_weather\",\n",
      "          \"arguments\": \"{\\n  \\\"location\\\": \\\"EHRD\\\"\\n}\"\n",
      "        }\n",
      "      },\n",
      "      \"finish_reason\": \"function_call\"\n",
      "    }\n",
      "  ],\n",
      "  \"usage\": {\n",
      "    \"prompt_tokens\": 100,\n",
      "    \"completion_tokens\": 18,\n",
      "    \"total_tokens\": 118\n",
      "  }\n",
      "}\n",
      "=====================================\n",
      "What was the reason to stop: function_call\n",
      "We received a function call!\n",
      "The function name is: get_current_weather\n",
      "The location is (as an aviation code): EHRD\n",
      "The function arguments are: {\n",
      "  \"location\": \"EHRD\"\n",
      "}\n",
      "Code EHRD is Rotterdam The Hague Airport, but it does not always work.\n"
     ]
    }
   ],
   "source": [
    "# Now ask GPT to generate a response. We expect it to reply with a function call\n",
    "response = openai.ChatCompletion.create( \n",
    "    model=model,\n",
    "    messages=messages,\n",
    "    max_tokens=max_tokens,\n",
    "    functions=functions\n",
    ")\n",
    "\n",
    "print(\"Full response:\",response)\n",
    "print(\"=====================================\")\n",
    "finish_reason = response[\"choices\"][0][\"finish_reason\"]\n",
    "print(\"What was the reason to stop:\",finish_reason)\n",
    "function_name = \"\" # we will store the function name here\n",
    "function_args = \"\" # we will store the location here\n",
    "location = \"\" # we will store the location here\n",
    "if finish_reason == \"function_call\":\n",
    "  print(\"We received a function call!\")\n",
    "  reply = response[\"choices\"][0][\"message\"] # look for info in the reply structure\n",
    "  messages.append(reply) # add the reply to the messages\n",
    "  function_call = reply[\"function_call\"]\n",
    "  function_name = function_call[\"name\"]\n",
    "  function_args = function_call[\"arguments\"]\n",
    "  print(\"The function name is:\",function_name)\n",
    "  location=eval(function_args)[\"location\"]\n",
    "  print(\"The location is (as an aviation code):\",location)\n",
    "  print(\"The function arguments are:\",function_args)\n",
    "elif finish_reason == \"max_tokens\":\n",
    "  print(\"We reached the maximum number of tokens before a full answer or function_call.\")\n",
    "elif finish_reason == \"stop\":\n",
    "  print(\"We received a full answer, but no function call.\")\n",
    "else:\n",
    "  print(\"We received an unexpected response:\",finish_reason)\n",
    "\n",
    "print(\"Code EHRD is Rotterdam The Hague Airport, but it does not always work.\")"
   ]
  },
  {
   "cell_type": "code",
   "execution_count": 41,
   "metadata": {},
   "outputs": [
    {
     "name": "stdout",
     "output_type": "stream",
     "text": [
      "The function name is get_current_weather.\n",
      "The location code is: EHRD\n",
      "response is: <?xml version=\"1.0\" encoding=\"UTF-8\"?>\n",
      "<response xmlns:xsd=\"http://www.w3.org/2001/XMLSchema\" xmlns:xsi=\"http://www.w3.org/2001/XMLSchema-instance\" version=\"1.2\" xsi:noNamespaceSchemaLocation=\"http://www.aviationweather.gov/static/adds/schema/metar1_2.xsd\">\n",
      "  <request_index>2197922</request_index>\n",
      "  <data_source name=\"metars\" />\n",
      "  <request type=\"retrieve\" />\n",
      "  <errors />\n",
      "  <warnings />\n",
      "  <time_taken_ms>1</time_taken_ms>\n",
      "  <data num_results=\"1\">\n",
      "    <METAR>\n",
      "      <raw_text>EHRD 091955Z AUTO 29003KT 250V340 9999 NSC 18/15 Q1020 TEMPO 7000 -SHRA SCT030CB</raw_text>\n",
      "      <station_id>EHRD</station_id>\n",
      "      <observation_time>2023-07-09T19:55:00Z</observation_time>\n",
      "      <latitude>51.95</latitude>\n",
      "      <longitude>4.45</longitude>\n",
      "      <temp_c>18.0</temp_c>\n",
      "      <dewpoint_c>15.0</dewpoint_c>\n",
      "      <wind_dir_degrees>290</wind_dir_degrees>\n",
      "      <wind_speed_kt>3</wind_speed_kt>\n",
      "      <visibility_statute_mi>6.21</visibility_statute_mi>\n",
      "      <altim_in_hg>30.11811</altim_in_hg>\n",
      "      <quality_control_flags>\n",
      "        <auto>TRUE</auto>\n",
      "      </quality_control_flags>\n",
      "      <sky_condition sky_cover=\"CLR\" />\n",
      "      <flight_category>VFR</flight_category>\n",
      "      <metar_type>METAR</metar_type>\n",
      "      <elevation_m>-4.0</elevation_m>\n",
      "    </METAR>\n",
      "  </data>\n",
      "</response>\n",
      "\n",
      "\n"
     ]
    }
   ],
   "source": [
    "# Now we use our function name and arguments to generate a response\n",
    "function_response = \"\"\n",
    "\n",
    "if function_name == \"get_current_weather\":\n",
    "    # Do stuff for this function\n",
    "    print(\"The function name is get_current_weather.\")\n",
    "    print(\"The location code is:\",location)\n",
    "\n",
    "    import requests\n",
    "    import urllib.parse\n",
    "\n",
    "    # Set up the URL, passing on the location variable such as KDTW\n",
    "    url = f'https://www.aviationweather.gov/adds/dataserver_current/httpparam?dataSource=metars&requestType=retrieve&format=xml&hoursBeforeNow=3&mostRecent=true&stationString={location}'\n",
    "\n",
    "    # Use requests to fetch the URL\n",
    "    response = requests.get(url)\n",
    "\n",
    "    # Check if the request was successful\n",
    "    if response.status_code == 200:\n",
    "      function_response = response.text\n",
    "      print(\"response is:\",function_response)\n",
    "\n",
    "    else:\n",
    "      print(\"Error making the request.\")\n",
    "elif function_name==\"\":\n",
    "  print(\"No function call received.\")\n",
    "else:\n",
    "  print(\"We received an unexpected function name\")\n",
    "\n",
    "# function reply to GPT\n",
    "messages.append({\"role\": \"system\", \"name\": function_name, \"content\": function_response})"
   ]
  },
  {
   "cell_type": "code",
   "execution_count": 40,
   "metadata": {},
   "outputs": [
    {
     "data": {
      "text/plain": [
       "'<?xml version=\"1.0\" encoding=\"UTF-8\"?>\\r\\n<response xmlns:xsd=\"http://www.w3.org/2001/XMLSchema\" xmlns:xsi=\"http://www.w3.org/2001/XMLSchema-instance\" version=\"1.2\" xsi:noNamespaceSchemaLocation=\"http://www.aviationweather.gov/static/adds/schema/metar1_2.xsd\">\\r\\n  <request_index>2116325</request_index>\\r\\n  <data_source name=\"metars\" />\\r\\n  <request type=\"retrieve\" />\\r\\n  <errors />\\r\\n  <warnings />\\r\\n  <time_taken_ms>2</time_taken_ms>\\r\\n  <data num_results=\"1\">\\r\\n    <METAR>\\r\\n      <raw_text>EHRD 091955Z AUTO 29003KT 250V340 9999 NSC 18/15 Q1020 TEMPO 7000 -SHRA SCT030CB</raw_text>\\r\\n      <station_id>EHRD</station_id>\\r\\n      <observation_time>2023-07-09T19:55:00Z</observation_time>\\r\\n      <latitude>51.95</latitude>\\r\\n      <longitude>4.45</longitude>\\r\\n      <temp_c>18.0</temp_c>\\r\\n      <dewpoint_c>15.0</dewpoint_c>\\r\\n      <wind_dir_degrees>290</wind_dir_degrees>\\r\\n      <wind_speed_kt>3</wind_speed_kt>\\r\\n      <visibility_statute_mi>6.21</visibility_statute_mi>\\r\\n      <altim_in_hg>30.11811</altim_in_hg>\\r\\n      <quality_control_flags>\\r\\n        <auto>TRUE</auto>\\r\\n      </quality_control_flags>\\r\\n      <sky_condition sky_cover=\"CLR\" />\\r\\n      <flight_category>VFR</flight_category>\\r\\n      <metar_type>METAR</metar_type>\\r\\n      <elevation_m>-4.0</elevation_m>\\r\\n    </METAR>\\r\\n  </data>\\r\\n</response>\\r\\n\\r\\n'"
      ]
     },
     "execution_count": 40,
     "metadata": {},
     "output_type": "execute_result"
    }
   ],
   "source": [
    "# Now we extract the weather information from the response\n",
    "function_response  #Let's forget about this for now"
   ]
  },
  {
   "cell_type": "code",
   "execution_count": 49,
   "metadata": {},
   "outputs": [
    {
     "name": "stdout",
     "output_type": "stream",
     "text": [
      "=====================================\n"
     ]
    },
    {
     "data": {
      "text/markdown": [
       "__User__: Does it rain in Delft?"
      ],
      "text/plain": [
       "<IPython.core.display.Markdown object>"
      ]
     },
     "metadata": {},
     "output_type": "display_data"
    },
    {
     "data": {
      "text/markdown": [
       "__GPT__: According to the latest weather report, it is not currently raining in Delft. The observation shows clear skies (CLR) with a visibility of 6.21 statute miles."
      ],
      "text/plain": [
       "<IPython.core.display.Markdown object>"
      ]
     },
     "metadata": {},
     "output_type": "display_data"
    }
   ],
   "source": [
    "# Now ask GPT to generate the answer\n",
    "# Now ask GPT to generate a response. We expect it to reply with a function call\n",
    "response = openai.ChatCompletion.create( \n",
    "    model=model,\n",
    "    messages=messages,\n",
    "    max_tokens=max_tokens,\n",
    "    functions=functions\n",
    ")\n",
    "\n",
    "#print(\"Full response:\",response) # uncomment this line to see the full response\n"
   ]
  },
  {
   "cell_type": "code",
   "execution_count": 50,
   "metadata": {},
   "outputs": [
    {
     "data": {
      "text/markdown": [
       "__User__: Does it rain in Delft?"
      ],
      "text/plain": [
       "<IPython.core.display.Markdown object>"
      ]
     },
     "metadata": {},
     "output_type": "display_data"
    },
    {
     "data": {
      "text/markdown": [
       "__GPT__: According to the latest weather report, it is not currently raining in Delft. The observation shows clear skies (CLR) with a visibility of 6.21 statute miles."
      ],
      "text/plain": [
       "<IPython.core.display.Markdown object>"
      ]
     },
     "metadata": {},
     "output_type": "display_data"
    }
   ],
   "source": [
    "# Write the question and answer to the screen\n",
    "display(Markdown(\"__User__: \"+messages[1][\"content\"]))\n",
    "display(Markdown(\"__GPT__: \"+response[\"choices\"][0][\"message\"][\"content\"]))"
   ]
  },
  {
   "cell_type": "code",
   "execution_count": null,
   "metadata": {},
   "outputs": [],
   "source": []
  }
 ],
 "metadata": {
  "kernelspec": {
   "display_name": "mygeneral",
   "language": "python",
   "name": "python3"
  },
  "language_info": {
   "codemirror_mode": {
    "name": "ipython",
    "version": 3
   },
   "file_extension": ".py",
   "mimetype": "text/x-python",
   "name": "python",
   "nbconvert_exporter": "python",
   "pygments_lexer": "ipython3",
   "version": "3.10.11"
  },
  "orig_nbformat": 4
 },
 "nbformat": 4,
 "nbformat_minor": 2
}
